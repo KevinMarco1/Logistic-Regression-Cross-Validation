{
 "cells": [
  {
   "cell_type": "code",
   "execution_count": null,
   "metadata": {},
   "outputs": [],
   "source": [
    "from sklearn.datasets import fetch_openml\n",
    "import numpy as np \n",
    "import pandas as pd"
   ]
  },
  {
   "attachments": {},
   "cell_type": "markdown",
   "metadata": {},
   "source": [
    "# preprocessing the data"
   ]
  },
  {
   "attachments": {},
   "cell_type": "markdown",
   "metadata": {},
   "source": [
    "## fetch the data from sklearn"
   ]
  },
  {
   "cell_type": "code",
   "execution_count": null,
   "metadata": {},
   "outputs": [],
   "source": [
    "mnist = fetch_openml('mnist_784')\n",
    "mnist"
   ]
  },
  {
   "attachments": {},
   "cell_type": "markdown",
   "metadata": {},
   "source": [
    "### convert data from dictionary to data frame"
   ]
  },
  {
   "cell_type": "code",
   "execution_count": null,
   "metadata": {},
   "outputs": [],
   "source": [
    "df = pd.DataFrame.from_dict(mnist.data)\n",
    "df['target'] = mnist.target.astype(\"int32\")"
   ]
  },
  {
   "attachments": {},
   "cell_type": "markdown",
   "metadata": {},
   "source": [
    "### substract the images with 0 and 1"
   ]
  },
  {
   "cell_type": "code",
   "execution_count": null,
   "metadata": {},
   "outputs": [],
   "source": [
    "df = df.loc[ df['target'].isin( [0 , 1] ) ]"
   ]
  },
  {
   "attachments": {},
   "cell_type": "markdown",
   "metadata": {},
   "source": [
    "## Standarize the data "
   ]
  },
  {
   "cell_type": "code",
   "execution_count": null,
   "metadata": {},
   "outputs": [],
   "source": [
    "def standarization(X):\n",
    "    return ( X - np.mean(X) ) / np.std(X) "
   ]
  },
  {
   "cell_type": "code",
   "execution_count": null,
   "metadata": {},
   "outputs": [],
   "source": [
    "# convert data frame into numpy\n",
    "X = df.to_numpy()\n",
    "# make standarization to X\n",
    "standarization(X)\n",
    "X"
   ]
  },
  {
   "attachments": {},
   "cell_type": "markdown",
   "metadata": {},
   "source": [
    "## split data into X and y "
   ]
  },
  {
   "cell_type": "code",
   "execution_count": null,
   "metadata": {},
   "outputs": [],
   "source": [
    "# delete target column from X\n",
    "X = np.delete(X , 784 , axis = 1)\n",
    "# convert data frame into numpy\n",
    "y = df['target'].to_numpy()"
   ]
  },
  {
   "attachments": {},
   "cell_type": "markdown",
   "metadata": {},
   "source": [
    "# Implement Logistic Regression From Scratch"
   ]
  },
  {
   "cell_type": "code",
   "execution_count": null,
   "metadata": {},
   "outputs": [],
   "source": [
    "class LogisticRegression:\n",
    "    def __init__(self , learning_rate = 0.01 , epoches = 1000 , tolerance = 1e-7):\n",
    "        self.learning_rate = learning_rate\n",
    "        self.epoches = epoches\n",
    "        self.tolerance = tolerance\n",
    "    \n",
    "    def sigmoid(self , z):\n",
    "        return 1 / ( 1 + np.exp(-z)) \n",
    "    \n",
    "    \n",
    "    def yPredict(self ,X , w , b) :\n",
    "        return np.dot(w , X.T) + b\n",
    "    \n",
    "    def identifyClassWithThreshold(self ,y_predict , threshold = 0.5):\n",
    "        for predicted_value in y_predict:\n",
    "            if predicted_value >= threshold :\n",
    "                predicted_value = 1\n",
    "            else:\n",
    "                predicted_value = 0\n",
    "\n",
    "    \n",
    "    def accuracy(self , y , y_predict):\n",
    "        true = 0 \n",
    "        for (actual , predicted ) in zip(y, y_predict):\n",
    "            if actual == predicted:\n",
    "                true += 1\n",
    "        return ( true / len(y) )   * 100 \n",
    "    \n",
    "    def costWithCrossEntropy(self , y , y_predicted):\n",
    "        length = len(y) \n",
    "        first_term  =  np.dot(-y , np.log(y_predicted) )\n",
    "        second_term =  np.dot((1 - y) , np.log(1 - y_predicted))\n",
    "        result = (1 / length) * (first_term - second_term)\n",
    "        return result \n",
    "    \n",
    "    def fit(self, X , y):\n",
    "        # intializa the weights randomly\n",
    "        w = np.random.rand(X.shape[1]) \n",
    "        b = np.random.rand(1) \n",
    "        length = len(X)\n",
    "        \n",
    "        for epoch in range(self.epoches):\n",
    "            # calculate net value\n",
    "            z = np.dot(w , X.T) + b\n",
    "            \n",
    "            # plugin activation function to net_value to get predicted value\n",
    "            y_predicted = self.sigmoid(z) \n",
    "            \n",
    "            # calculating cost with cross entropy\n",
    "            error = self.costWithCrossEntropy(y , y_predicted)\n",
    "            \n",
    "            if error <= self.tolerance:\n",
    "                break\n",
    "            \n",
    "            # update the weights \n",
    "            dw =  (1 / length) * np.dot(y_predicted - y , X) \n",
    "            w = w - dw * self.learning_rate\n",
    "            \n",
    "            db = np.mean( y_predicted - y)\n",
    "            b = b - db * self.learning_rate\n",
    "            \n",
    "            \n",
    "        return w , b    \n",
    "            \n",
    "        \n",
    "        "
   ]
  },
  {
   "attachments": {},
   "cell_type": "markdown",
   "metadata": {},
   "source": [
    "# Implement Cross Validation From Scratch"
   ]
  },
  {
   "cell_type": "code",
   "execution_count": null,
   "metadata": {},
   "outputs": [],
   "source": [
    "def kFoldCrossValidation(X , y , model , folds = 10 ):\n",
    "    length = len(X)\n",
    "    ratio = length / folds\n",
    "    accuracy = 0\n",
    "    for fold in range(folds):\n",
    "        start = int(fold * ratio)\n",
    "        end  = int((fold + 1) * ratio)\n",
    "        \n",
    "        # split data into train and validate\n",
    "        x_validate , y_validate = X[start : end] , y[start : end]\n",
    "        x_train , y_train = np.concatenate( (X[:start] , X[end:]) ) , np.concatenate((y[:start] , y[end:])) \n",
    "        \n",
    "        # make standarization to the data\n",
    "        standarization(x_train)\n",
    "        standarization(x_validate)\n",
    "        \n",
    "        # learn the model \n",
    "        w , b = model.fit(x_train , y_train)\n",
    "        \n",
    "        # get net_value for validate data set\n",
    "        net_value = model.yPredict(x_validate , w , b)\n",
    "        \n",
    "        # calculate y_predict from net_value using activation function \n",
    "        y_predict = model.sigmoid(net_value)\n",
    "        \n",
    "\n",
    "        # plugin threshold into y_predict\n",
    "        model.identifyClassWithThreshold(y_predict)\n",
    "        \n",
    "        accuracy += model.accuracy(y_validate , y_predict)\n",
    "    \n",
    "    accuracy /= folds    \n",
    "    \n",
    "    print('with learning rate : ' , model.learning_rate , ' average of accuracy was : ' , accuracy)    \n",
    "        "
   ]
  },
  {
   "attachments": {},
   "cell_type": "markdown",
   "metadata": {},
   "source": [
    "# test the model with cross validation"
   ]
  },
  {
   "cell_type": "code",
   "execution_count": null,
   "metadata": {},
   "outputs": [],
   "source": [
    "number_of_learning_rate = int(input(\"Please enter number of learning rate you want to test : \"))\n",
    "list_of_learning_rates = []\n",
    "for i in range (number_of_learning_rate):\n",
    "    learning_rate = float( input(f\"Enter your {i + 1} learning rate : \") )\n",
    "    list_of_learning_rates.append(learning_rate)"
   ]
  },
  {
   "cell_type": "code",
   "execution_count": null,
   "metadata": {},
   "outputs": [],
   "source": [
    "model = LogisticRegression(epoches=100)\n",
    "for learning_rate in list_of_learning_rates:\n",
    "    model.learning_rate = learning_rate\n",
    "    kFoldCrossValidation(X , y , model)"
   ]
  }
 ],
 "metadata": {
  "kernelspec": {
   "display_name": "Python 3",
   "language": "python",
   "name": "python3"
  },
  "language_info": {
   "codemirror_mode": {
    "name": "ipython",
    "version": 3
   },
   "file_extension": ".py",
   "mimetype": "text/x-python",
   "name": "python",
   "nbconvert_exporter": "python",
   "pygments_lexer": "ipython3",
   "version": "3.11.1"
  },
  "orig_nbformat": 4
 },
 "nbformat": 4,
 "nbformat_minor": 2
}
